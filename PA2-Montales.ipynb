{
 "cells": [
  {
   "cell_type": "markdown",
   "id": "86546a09-f627-4a05-9a90-13bcb45a63da",
   "metadata": {},
   "source": [
    "Normalization Problem"
   ]
  },
  {
   "cell_type": "code",
   "execution_count": 7,
   "id": "966aefde-54cb-496d-ad2c-01f14607d698",
   "metadata": {},
   "outputs": [
    {
     "data": {
      "text/plain": [
       "array([[ 0.51755277,  1.88437493,  0.17930085, -0.52006213, -0.08360138],\n",
       "       [-1.11237752, -0.00499726,  1.31890735, -0.16889759,  1.8567688 ],\n",
       "       [ 0.21113583, -0.91271458, -0.38150324,  0.93503501, -1.42385113],\n",
       "       [-1.41821609, -1.25030628,  1.47886787, -0.81865673, -0.57738441],\n",
       "       [ 0.87500345,  0.61372558, -0.85188645,  0.77574672, -1.12196437]])"
      ]
     },
     "execution_count": 7,
     "metadata": {},
     "output_type": "execute_result"
    }
   ],
   "source": [
    "import numpy as np\n",
    "X = np.random.rand(5, 5)                             # Create random 5x5 ndarray\n",
    "        \n",
    "mean = X.mean()                                      # Use the .mean() and .std() call to find the standard deviation and mean\n",
    "standard_deviation = X.std()\n",
    "\n",
    "X_normalized = (X - mean) / standard_deviation       # Use the formula to normalize the values inside the 5x5 array\n",
    "\n",
    "np.save('X_normalized.npy', X_normalized)            # save the normalized ndarray\n",
    "\n",
    "X_normalized"
   ]
  },
  {
   "cell_type": "markdown",
   "id": "3e36d1a2-1694-4efb-87fa-ac44a3f5dbb0",
   "metadata": {},
   "source": [
    "Divisible By 3 Problem"
   ]
  },
  {
   "cell_type": "code",
   "execution_count": 9,
   "id": "3b73e0f7-47d0-4474-a2df-33d3dcf2a33f",
   "metadata": {
    "scrolled": true
   },
   "outputs": [
    {
     "data": {
      "text/plain": [
       "array([   9,   36,   81,  144,  225,  324,  441,  576,  729,  900, 1089,\n",
       "       1296, 1521, 1764, 2025, 2304, 2601, 2916, 3249, 3600, 3969, 4356,\n",
       "       4761, 5184, 5625, 6084, 6561, 7056, 7569, 8100, 8649, 9216, 9801])"
      ]
     },
     "execution_count": 9,
     "metadata": {},
     "output_type": "execute_result"
    }
   ],
   "source": [
    "import numpy as np\n",
    "\n",
    "array = (np.arange(1, 101).reshape(10, 10) ** 2)   # Generate numbers 1 to 100 and square them\n",
    "\n",
    "div_by_3 = array[array % 3 == 0]                       # Use boolean to find elements divisible by 3\n",
    "\n",
    "np.save('div_by_3.npy', div_by_3)              #Save the result as div_by_3.npy\n",
    "div_by_3                                       # Display the output\n",
    "\n"
   ]
  }
 ],
 "metadata": {
  "kernelspec": {
   "display_name": "Python 3 (ipykernel)",
   "language": "python",
   "name": "python3"
  },
  "language_info": {
   "codemirror_mode": {
    "name": "ipython",
    "version": 3
   },
   "file_extension": ".py",
   "mimetype": "text/x-python",
   "name": "python",
   "nbconvert_exporter": "python",
   "pygments_lexer": "ipython3",
   "version": "3.12.4"
  }
 },
 "nbformat": 4,
 "nbformat_minor": 5
}
